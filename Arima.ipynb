{
 "cells": [
  {
   "cell_type": "code",
   "execution_count": 2,
   "id": "4eb3db2a-d2f2-4564-a2b3-9083e3fb6870",
   "metadata": {},
   "outputs": [
    {
     "ename": "SyntaxError",
     "evalue": "unmatched ')' (1485478725.py, line 6)",
     "output_type": "error",
     "traceback": [
      "\u001b[1;36m  Cell \u001b[1;32mIn[2], line 6\u001b[1;36m\u001b[0m\n\u001b[1;33m    data ( ontre) = po.to.datetnedatal Month:1)\u001b[0m\n\u001b[1;37m                                              ^\u001b[0m\n\u001b[1;31mSyntaxError\u001b[0m\u001b[1;31m:\u001b[0m unmatched ')'\n"
     ]
    }
   ],
   "source": [
    "Arima model\n",
    "\n",
    "# Import packages\n",
    "import plotly.express as px import pandas as pd\n",
    "# Read in the data\n",
    "data ( ontre) = po.to.datetnedatal Month:1)\n",
    "def plot_passenger_volumes(df: pd. DataFrame,\n",
    "y: str) -> None:\n",
    "**\"General function to plot the passenger data.\"\"™\n",
    "fig = px. line(df, x='Month'\n",
    "Fig. update layout Kemplate\" sumpie whate , Hontedict(si2e-1), title text= Airline Passengers')\n",
    "width=650, title_x=0.5, height=400)\n",
    "return fig. show()\n",
    "# Plot the airline passenger data\n",
    "plot_passenger_volumes (df=data, y='#Passengers')"
   ]
  },
  {
   "cell_type": "code",
   "execution_count": null,
   "id": "b3b219bd-1ca5-4a6c-b6ba-f89fe81cb61c",
   "metadata": {},
   "outputs": [],
   "source": [
    "# Import packages\n",
    "from scipy-stats import boxcox\n",
    "# Make the target varzance statzonary\n",
    "data ('Passengers_Boxcox*), Lam = boxcox(data|'#Passengers'])\n",
    "# Plot the box-cox passenger data\n",
    "plot_passenger_volumes(df=data, y='Passengers_Boxcox\" )"
   ]
  },
  {
   "cell_type": "markdown",
   "id": "8c62dc1d-911e-4d1c-be4a-1c28fee8cb08",
   "metadata": {},
   "source": [
    "## MODELING"
   ]
  },
  {
   "cell_type": "code",
   "execution_count": null,
   "id": "0c31f334-0f63-4088-8794-de5f9ed046c0",
   "metadata": {},
   "outputs": [],
   "source": [
    "# Import packages\n",
    "import matplotlib pyplot as plt fron statsmodels.graphics.tsaplots import plot_pacf, plot_acf\n",
    "# Difference the data\n",
    "data [\"Passenger_diff\"] = data (\"Passengers_Boxcox\"] .diff()\n",
    "data.dropna (inplace=True)\n",
    "# Plot acf and pacf\n",
    "plot_acf(data[ 'Passenger_diff'])\n",
    "plot_pacf (data ['Passenger_diff'), method='ywm')\n",
    "axl. tick_params(axis='both', labelsize=12)\n",
    "ax2. tick_params (axis='both', labelsize=12)\n",
    "plt. show()"
   ]
  },
  {
   "cell_type": "code",
   "execution_count": null,
   "id": "7ef79fe1-2652-49f2-8117-aa298e360127",
   "metadata": {},
   "outputs": [],
   "source": [
    "# Import packages\n",
    "from statsmodels.tsa.arima.model import ARIMA from scipy special import inv_ boxcox\n",
    "* Split train and test\n",
    "train - data. ilocl:-int (Len(data) * 0.2)1\n",
    "test = data.iloc|-int(len(data) * 0-2):1\n",
    "* Buzld ARIMA model and inverse the boxcax\n",
    "model = ARIMA(train('Passengers_Boxcox'], order=(12, 1, 12)) -fit(\n",
    "boxcox_forecasts = model. forecast( Len(test))\n",
    "forecasts = inv_boxcox(boxcox_forecasts, lam)"
   ]
  },
  {
   "cell_type": "markdown",
   "id": "3b7474d7-4972-48ba-a820-2e35d9f68069",
   "metadata": {},
   "source": [
    "## RESULTS"
   ]
  },
  {
   "cell_type": "code",
   "execution_count": null,
   "id": "16400f89-7aa3-4c20-b81a-0c7d3a9fe46e",
   "metadata": {},
   "outputs": [],
   "source": [
    "# Import packages\n",
    "import plotly-graph_objects as go\n",
    "def\n",
    "plot forecasts(forecasts: List (float), title: str) →> None:\n",
    "\"\"Function to plot the forecasts.\"\"\"\n",
    "fig = go. Figure()\n",
    "fag-add.\n",
    "_trace(go.Scatter(x=train('Month'], y=train( '#Passengers'], name='Train*))\n",
    "Tag-add_\n",
    "trace(go Scatter(x=test ['Month'), y=test ('#Passengers'], name= 'Test'))\n",
    "119.000_trace(go,Scatter(x=test 'Month'], y=forecasts, name='Forecast*))\n",
    "1ig-update_layout (template=\"simple_white\", font=dict(size=18), title_text=title,\n",
    "width=650, title_x=0.5, height=400, xaxis_title='Date*, yaxis_title='Passenger Volume')\n",
    "return fig-show()\n",
    "* Plot the forecasts\n",
    "plot_forecasts(forecasts, 'ARIMA*)"
   ]
  }
 ],
 "metadata": {
  "kernelspec": {
   "display_name": "Python 3 (ipykernel)",
   "language": "python",
   "name": "python3"
  },
  "language_info": {
   "codemirror_mode": {
    "name": "ipython",
    "version": 3
   },
   "file_extension": ".py",
   "mimetype": "text/x-python",
   "name": "python",
   "nbconvert_exporter": "python",
   "pygments_lexer": "ipython3",
   "version": "3.11.7"
  }
 },
 "nbformat": 4,
 "nbformat_minor": 5
}
